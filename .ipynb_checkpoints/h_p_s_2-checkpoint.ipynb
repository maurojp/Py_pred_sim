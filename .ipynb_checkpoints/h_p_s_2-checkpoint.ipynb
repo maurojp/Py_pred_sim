{
 "cells": [
  {
   "cell_type": "code",
   "execution_count": 1,
   "id": "competent-humidity",
   "metadata": {},
   "outputs": [],
   "source": [
    "import pandas as pd\n",
    "import numpy as np\n",
    "import threading\n",
    "import time\n",
    "import queue\n",
    "import matplotlib.pyplot as plt\n",
    "from tensorflow import keras\n",
    "from tensorflow.keras.models import model_from_json"
   ]
  },
  {
   "cell_type": "code",
   "execution_count": 2,
   "id": "superior-tissue",
   "metadata": {},
   "outputs": [],
   "source": [
    "# Lista para guardar las predicciones\n",
    "history = []\n",
    "\n",
    "# Parametros de normalización para conjunto TS1-4_COOLER\n",
    "T_C_0_num = -2304.11053494\n",
    "T_C_0_den = 7393.278659940001"
   ]
  },
  {
   "cell_type": "code",
   "execution_count": 3,
   "id": "geographic-whale",
   "metadata": {},
   "outputs": [],
   "source": [
    "# Función de normalización\n",
    "def normalize(x):\n",
    "  return (x - T_C_0_num) / T_C_0_den"
   ]
  },
  {
   "cell_type": "code",
   "execution_count": 4,
   "id": "forward-advance",
   "metadata": {},
   "outputs": [],
   "source": [
    "# Logica del proceso Simulador\n",
    "def simulator(thread_name, console_lock):\n",
    "    for i in range(len(sds)):\n",
    "        # Pausa de un segundo entre entregas de datos\n",
    "        time.sleep(1)\n",
    "        # Inserción de los datos en el repositorio FIFO\n",
    "        q.put(sds[i])\n",
    "        with console_lock:\n",
    "            print(\"Proceso Simulador de Lecturas - Proc.Nro. \" + str(threading.get_ident()))\n",
    "            print(\"Lecturas enviadas: \", sds[i])"
   ]
  },
  {
   "cell_type": "code",
   "execution_count": 5,
   "id": "lucky-catalyst",
   "metadata": {},
   "outputs": [],
   "source": [
    "# Logica del proceso predictor\n",
    "def predictor(thread_name, console_lock, loaded_model):\n",
    "    pred_counter = 0\n",
    "    serie = np.empty((1, 4))\n",
    "    while (pred_counter < 912):\n",
    "        if q.qsize() > 0:\n",
    "            b = q.get()\n",
    "            with console_lock:\n",
    "                print(\"Proceso Predictor - Proc.Nro. \" + str(threading.get_ident()))\n",
    "                print(\"Prediccion Nro.: \", pred_counter, \" - Datos Recibidos: \", b)\n",
    "                print(\"Objetos restantes en la cola: \" + str(q.qsize()))\n",
    "                # Preparado de la Serie\n",
    "                if pred_counter == 0:\n",
    "                    serie = np.array([b])\n",
    "                else:\n",
    "                    serie = np.append(serie, np.array([b]), axis=0)\n",
    "                # Grafica de la serie acumulada (Comentado por memoria)\n",
    "                # plt.plot(serie) (Comentado por memoria)\n",
    "                # plt.show() (Comentado por memoria)\n",
    "\n",
    "                # Predicción\n",
    "                if len(serie) > 0: # Hay suficientes datos para predecir\n",
    "                    x = normalize(serie[-1:, :])\n",
    "                    # print(\"Ultima lectura recibida (Normalizada)\")\n",
    "                    # print(x)\n",
    "                    pred_val = loaded_model.predict(np.array([x]))\n",
    "                    i_pred_val = np.argmax(pred_val)\n",
    "                    history.append(i_pred_val)\n",
    "                    print(\"Predicción: \", pred_val, \"Etiqueta: \", i_pred_val)\n",
    "                    print(\"Estado en 50 segundos: \", text_labels[i_pred_val])\n",
    "                else:\n",
    "                    print(\"No hay suficientes datos para realizar una predicción.\")\n",
    "                pred_counter += 1\n",
    "        else:\n",
    "            time.sleep(1)\n",
    "    # Guardo en archivo el resultado de las predicciones\n",
    "    mat = np.matrix(history)\n",
    "    with open('resultados_h_p_s_2.txt', 'wb') as f:\n",
    "        for line in mat:\n",
    "            np.savetxt(f, line, fmt='%.4f', delimiter='\\t')\n"
   ]
  },
  {
   "cell_type": "code",
   "execution_count": null,
   "id": "christian-chester",
   "metadata": {},
   "outputs": [],
   "source": [
    "# Lectura del dataset sintetico\n",
    "sds = pd.read_csv('TimeSerie_Real_Data.txt', sep='\\t', header=None)\n",
    "sds = sds.to_numpy()\n",
    "\n",
    "# Semaforo para acceso a la consola\n",
    "console_lock = threading.Lock()\n",
    "\n",
    "# Lectura del modelo de aprendizaje profundo\n",
    "with open('model_MLP_Real_1.json', 'r') as json_file:\n",
    "    model_json = json_file.read()\n",
    "loaded_model = model_from_json(model_json)\n",
    "\n",
    "# Lectura de los parámetros entrenados\n",
    "loaded_model.load_weights('model_MLP_Real_1.h5')\n",
    "\n",
    "# Compilación del modelo\n",
    "opt = keras.optimizers.Adam(learning_rate=.002)\n",
    "loaded_model.compile(optimizer = opt, loss='categorical_crossentropy', metrics = ['accuracy'])\n",
    "\n",
    "# Etiquetas con los estados posibles\n",
    "text_labels = ['BUEN ESTADO', 'ESTADO CRITICO']\n",
    "\n",
    "# Creación del repositorio para intercambio de datos entre procesos (FIFO)\n",
    "q = queue.Queue()\n",
    "\n",
    "# Visualización de la estructura del modelo de aprendizaje profundo leido\n",
    "loaded_model.summary()\n",
    "\n",
    "# Creación de los procesos concurrentes\n",
    "p1 = threading.Thread(target=simulator, args=('p1', console_lock))\n",
    "p2 = threading.Thread(target=predictor, args=('p2', console_lock, loaded_model))\n",
    "\n",
    "# Inicio de la ejecución de los procesos\n",
    "p1.start()\n",
    "p2.start()"
   ]
  }
 ],
 "metadata": {
  "kernelspec": {
   "display_name": "Python 3",
   "language": "python",
   "name": "python3"
  },
  "language_info": {
   "codemirror_mode": {
    "name": "ipython",
    "version": 3
   },
   "file_extension": ".py",
   "mimetype": "text/x-python",
   "name": "python",
   "nbconvert_exporter": "python",
   "pygments_lexer": "ipython3",
   "version": "3.8.3"
  }
 },
 "nbformat": 4,
 "nbformat_minor": 5
}
